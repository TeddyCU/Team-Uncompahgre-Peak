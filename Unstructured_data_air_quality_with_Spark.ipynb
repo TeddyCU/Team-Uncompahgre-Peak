{
  "nbformat": 4,
  "nbformat_minor": 0,
  "metadata": {
    "colab": {
      "name": "Unstructured data air quality with Spark",
      "provenance": []
    },
    "kernelspec": {
      "name": "python3",
      "display_name": "Python 3"
    }
  },
  "cells": [
    {
      "cell_type": "code",
      "metadata": {
        "id": "17Z7BT23w3FU",
        "colab_type": "code",
        "colab": {}
      },
      "source": [
        "#load data and remove first few rows \n",
        "import pandas as pd \n",
        "data= pd.read_csv('/content/drive/My Drive/Colab Notebooks/unstructured data my project/covid19airquality2020.csv',skiprows=[0,1,2,3,4,5])\n",
        "data2019q1= pd.read_csv('/content/drive/My Drive/Colab Notebooks/unstructured data my project/waqi-covid19-airqualitydata-2019Q1.csv',skiprows=[0,1,2,3,4,5])\n"
      ],
      "execution_count": 0,
      "outputs": []
    },
    {
      "cell_type": "code",
      "metadata": {
        "id": "SR64SO2cxoAB",
        "colab_type": "code",
        "outputId": "9a017dca-d237-48ee-8138-59f20d9f187f",
        "colab": {
          "base_uri": "https://localhost:8080/",
          "height": 201
        }
      },
      "source": [
        "data.head()"
      ],
      "execution_count": 21,
      "outputs": [
        {
          "output_type": "execute_result",
          "data": {
            "text/html": [
              "<div>\n",
              "<style scoped>\n",
              "    .dataframe tbody tr th:only-of-type {\n",
              "        vertical-align: middle;\n",
              "    }\n",
              "\n",
              "    .dataframe tbody tr th {\n",
              "        vertical-align: top;\n",
              "    }\n",
              "\n",
              "    .dataframe thead th {\n",
              "        text-align: right;\n",
              "    }\n",
              "</style>\n",
              "<table border=\"1\" class=\"dataframe\">\n",
              "  <thead>\n",
              "    <tr style=\"text-align: right;\">\n",
              "      <th></th>\n",
              "      <th>Date</th>\n",
              "      <th>Country</th>\n",
              "      <th>City</th>\n",
              "      <th>Specie</th>\n",
              "      <th>count</th>\n",
              "      <th>min</th>\n",
              "      <th>max</th>\n",
              "      <th>median</th>\n",
              "      <th>variance</th>\n",
              "    </tr>\n",
              "  </thead>\n",
              "  <tbody>\n",
              "    <tr>\n",
              "      <th>0</th>\n",
              "      <td>2020-03-18</td>\n",
              "      <td>MN</td>\n",
              "      <td>Ulan Bator</td>\n",
              "      <td>dew</td>\n",
              "      <td>253</td>\n",
              "      <td>-14.5</td>\n",
              "      <td>-4.0</td>\n",
              "      <td>-11.5</td>\n",
              "      <td>68.52</td>\n",
              "    </tr>\n",
              "    <tr>\n",
              "      <th>1</th>\n",
              "      <td>2020-03-27</td>\n",
              "      <td>MN</td>\n",
              "      <td>Ulan Bator</td>\n",
              "      <td>dew</td>\n",
              "      <td>264</td>\n",
              "      <td>-20.5</td>\n",
              "      <td>-14.5</td>\n",
              "      <td>-18.0</td>\n",
              "      <td>35.34</td>\n",
              "    </tr>\n",
              "    <tr>\n",
              "      <th>2</th>\n",
              "      <td>2020-04-04</td>\n",
              "      <td>MN</td>\n",
              "      <td>Ulan Bator</td>\n",
              "      <td>dew</td>\n",
              "      <td>264</td>\n",
              "      <td>-19.5</td>\n",
              "      <td>-10.0</td>\n",
              "      <td>-14.0</td>\n",
              "      <td>82.81</td>\n",
              "    </tr>\n",
              "    <tr>\n",
              "      <th>3</th>\n",
              "      <td>2020-04-09</td>\n",
              "      <td>MN</td>\n",
              "      <td>Ulan Bator</td>\n",
              "      <td>dew</td>\n",
              "      <td>264</td>\n",
              "      <td>-16.5</td>\n",
              "      <td>-11.0</td>\n",
              "      <td>-15.0</td>\n",
              "      <td>32.06</td>\n",
              "    </tr>\n",
              "    <tr>\n",
              "      <th>4</th>\n",
              "      <td>2020-01-29</td>\n",
              "      <td>MN</td>\n",
              "      <td>Ulan Bator</td>\n",
              "      <td>dew</td>\n",
              "      <td>240</td>\n",
              "      <td>-26.0</td>\n",
              "      <td>-15.0</td>\n",
              "      <td>-20.0</td>\n",
              "      <td>138.35</td>\n",
              "    </tr>\n",
              "  </tbody>\n",
              "</table>\n",
              "</div>"
            ],
            "text/plain": [
              "         Date Country        City Specie  count   min   max  median  variance\n",
              "0  2020-03-18      MN  Ulan Bator    dew    253 -14.5  -4.0   -11.5     68.52\n",
              "1  2020-03-27      MN  Ulan Bator    dew    264 -20.5 -14.5   -18.0     35.34\n",
              "2  2020-04-04      MN  Ulan Bator    dew    264 -19.5 -10.0   -14.0     82.81\n",
              "3  2020-04-09      MN  Ulan Bator    dew    264 -16.5 -11.0   -15.0     32.06\n",
              "4  2020-01-29      MN  Ulan Bator    dew    240 -26.0 -15.0   -20.0    138.35"
            ]
          },
          "metadata": {
            "tags": []
          },
          "execution_count": 21
        }
      ]
    },
    {
      "cell_type": "code",
      "metadata": {
        "id": "30Pp65Shpbpt",
        "colab_type": "code",
        "colab": {}
      },
      "source": [
        "#create new csv with removed rows\n",
        "data.to_csv(r'/content/drive/My Drive/Colab Notebooks/unstructured data my project/sirquality2020.csv', index = False, header =True)\n",
        "data2019q1.to_csv(r'/content/drive/My Drive/Colab Notebooks/unstructured data my project/sirquality2019q1.csv', index = False, header =True)"
      ],
      "execution_count": 0,
      "outputs": []
    },
    {
      "cell_type": "code",
      "metadata": {
        "id": "PDEYopsqmTut",
        "colab_type": "code",
        "colab": {
          "base_uri": "https://localhost:8080/",
          "height": 250
        },
        "outputId": "f5df8c62-734b-4b6f-c0b9-7e09cb388fc9"
      },
      "source": [
        "#install pyspark \n",
        "pip install pyspark"
      ],
      "execution_count": 2,
      "outputs": [
        {
          "output_type": "stream",
          "text": [
            "Collecting pyspark\n",
            "\u001b[?25l  Downloading https://files.pythonhosted.org/packages/9a/5a/271c416c1c2185b6cb0151b29a91fff6fcaed80173c8584ff6d20e46b465/pyspark-2.4.5.tar.gz (217.8MB)\n",
            "\u001b[K     |████████████████████████████████| 217.8MB 58kB/s \n",
            "\u001b[?25hCollecting py4j==0.10.7\n",
            "\u001b[?25l  Downloading https://files.pythonhosted.org/packages/e3/53/c737818eb9a7dc32a7cd4f1396e787bd94200c3997c72c1dbe028587bd76/py4j-0.10.7-py2.py3-none-any.whl (197kB)\n",
            "\u001b[K     |████████████████████████████████| 204kB 39.7MB/s \n",
            "\u001b[?25hBuilding wheels for collected packages: pyspark\n",
            "  Building wheel for pyspark (setup.py) ... \u001b[?25l\u001b[?25hdone\n",
            "  Created wheel for pyspark: filename=pyspark-2.4.5-py2.py3-none-any.whl size=218257927 sha256=49d9421461e0ccbabc44d9e0460fcbdf7975f0012c3cb0a462c3b4525b61dd82\n",
            "  Stored in directory: /root/.cache/pip/wheels/bf/db/04/61d66a5939364e756eb1c1be4ec5bdce6e04047fc7929a3c3c\n",
            "Successfully built pyspark\n",
            "Installing collected packages: py4j, pyspark\n",
            "Successfully installed py4j-0.10.7 pyspark-2.4.5\n"
          ],
          "name": "stdout"
        }
      ]
    },
    {
      "cell_type": "code",
      "metadata": {
        "id": "htk0XAfxlygQ",
        "colab_type": "code",
        "colab": {}
      },
      "source": [
        "#create spark session\n",
        "from pyspark.sql import SparkSession\n",
        "\n",
        "spark = SparkSession.builder.getOrCreate()\n",
        "sc = spark.sparkContext"
      ],
      "execution_count": 0,
      "outputs": []
    },
    {
      "cell_type": "code",
      "metadata": {
        "id": "I5YSMaUMmn2z",
        "colab_type": "code",
        "colab": {}
      },
      "source": [
        "from pyspark import SQLContext\n",
        "sqlContext= SQLContext(sc)"
      ],
      "execution_count": 0,
      "outputs": []
    },
    {
      "cell_type": "code",
      "metadata": {
        "id": "0Dwf-YTGqDYN",
        "colab_type": "code",
        "colab": {}
      },
      "source": [
        "#load data with spark \n",
        "data20 = sqlContext.read.csv('/content/drive/My Drive/Colab Notebooks/unstructured data my project/sirquality2020.csv',header= True)\n",
        "data19 = sqlContext.read.csv('/content/drive/My Drive/Colab Notebooks/unstructured data my project/sirquality2019q1.csv',header=True)"
      ],
      "execution_count": 0,
      "outputs": []
    },
    {
      "cell_type": "markdown",
      "metadata": {
        "id": "M7RQb654rAa_",
        "colab_type": "text"
      },
      "source": [
        "Looking at the data "
      ]
    },
    {
      "cell_type": "code",
      "metadata": {
        "id": "aNoB86OTzWvu",
        "colab_type": "code",
        "colab": {
          "base_uri": "https://localhost:8080/",
          "height": 444
        },
        "outputId": "b0b9e688-da00-43ca-9292-cc2a851c8fb3"
      },
      "source": [
        "data20.show()"
      ],
      "execution_count": 48,
      "outputs": [
        {
          "output_type": "stream",
          "text": [
            "+----------+-------+----------+------+-----+-----+-----+------+--------+\n",
            "|      Date|Country|      City|Specie|count|  min|  max|median|variance|\n",
            "+----------+-------+----------+------+-----+-----+-----+------+--------+\n",
            "|2020-03-18|     MN|Ulan Bator|   dew|  253|-14.5| -4.0| -11.5|   68.52|\n",
            "|2020-03-27|     MN|Ulan Bator|   dew|  264|-20.5|-14.5| -18.0|   35.34|\n",
            "|2020-04-04|     MN|Ulan Bator|   dew|  264|-19.5|-10.0| -14.0|   82.81|\n",
            "|2020-04-09|     MN|Ulan Bator|   dew|  264|-16.5|-11.0| -15.0|   32.06|\n",
            "|2020-01-29|     MN|Ulan Bator|   dew|  240|-26.0|-15.0| -20.0|  138.35|\n",
            "|2020-02-07|     MN|Ulan Bator|   dew|  240|-32.0|-14.0| -24.0|   325.9|\n",
            "|2020-02-27|     MN|Ulan Bator|   dew|  264|-25.0|-11.5| -16.0|  145.02|\n",
            "|2020-03-05|     MN|Ulan Bator|   dew|  264|-24.0|-10.0| -19.0|  204.31|\n",
            "|2020-03-21|     MN|Ulan Bator|   dew|  264|-13.0| -8.0| -11.0|   28.61|\n",
            "|2020-01-05|     MN|Ulan Bator|   dew|  240|-25.0|-15.5| -19.0|   55.12|\n",
            "|2020-02-09|     MN|Ulan Bator|   dew|  140|-26.0|-14.0| -24.0|  158.34|\n",
            "|2020-02-28|     MN|Ulan Bator|   dew|  264|-30.0|-15.0| -22.0|  254.92|\n",
            "|2020-03-17|     MN|Ulan Bator|   dew|  253|-11.0| -3.5|  -8.5|   29.38|\n",
            "|2020-03-03|     MN|Ulan Bator|   dew|   55|-29.0|-24.0| -28.0|   44.81|\n",
            "|2020-03-15|     MN|Ulan Bator|   dew|  264|-16.5| -7.5| -10.0|   83.54|\n",
            "|2020-03-23|     MN|Ulan Bator|   dew|  264|-15.5| -6.0|  -9.5|   68.31|\n",
            "|2020-03-31|     MN|Ulan Bator|   dew|  264|-20.5|-14.0| -17.0|   32.41|\n",
            "|2020-01-09|     MN|Ulan Bator|   dew|  230|-30.0|-19.5| -23.0|   84.38|\n",
            "|2020-01-18|     MN|Ulan Bator|   dew|  216|-33.0|-21.0| -25.0|  181.46|\n",
            "|2020-01-30|     MN|Ulan Bator|   dew|  240|-27.0|-15.0| -20.0|  144.91|\n",
            "+----------+-------+----------+------+-----+-----+-----+------+--------+\n",
            "only showing top 20 rows\n",
            "\n"
          ],
          "name": "stdout"
        }
      ]
    },
    {
      "cell_type": "code",
      "metadata": {
        "id": "uAEFp9M_q7c3",
        "colab_type": "code",
        "colab": {
          "base_uri": "https://localhost:8080/",
          "height": 197
        },
        "outputId": "5a02f504-4224-4195-8fe9-a7d235b2120a"
      },
      "source": [
        "data20.printSchema()"
      ],
      "execution_count": 98,
      "outputs": [
        {
          "output_type": "stream",
          "text": [
            "root\n",
            " |-- Date: string (nullable = true)\n",
            " |-- Country: string (nullable = true)\n",
            " |-- City: string (nullable = true)\n",
            " |-- Specie: string (nullable = true)\n",
            " |-- count: string (nullable = true)\n",
            " |-- min: string (nullable = true)\n",
            " |-- max: string (nullable = true)\n",
            " |-- median: string (nullable = true)\n",
            " |-- variance: string (nullable = true)\n",
            "\n"
          ],
          "name": "stdout"
        }
      ]
    },
    {
      "cell_type": "markdown",
      "metadata": {
        "id": "wZ0m1rkMv3qK",
        "colab_type": "text"
      },
      "source": [
        "Some simple Aggregations "
      ]
    },
    {
      "cell_type": "code",
      "metadata": {
        "id": "WnFiBvMcu53K",
        "colab_type": "code",
        "colab": {}
      },
      "source": [
        "#building a temporary table \n",
        "data20.registerTempTable(\"data20\")\n",
        "data19.registerTempTable(\"data19\")"
      ],
      "execution_count": 0,
      "outputs": []
    },
    {
      "cell_type": "code",
      "metadata": {
        "id": "FQ2pihyarVnN",
        "colab_type": "code",
        "colab": {}
      },
      "source": [
        "SpecieTpyeCount20 = sqlContext.sql(\"\"\"\n",
        "                           SELECT Specie, count(*) as freq\n",
        "                           FROM data20\n",
        "                           GROUP BY Specie\n",
        "                           ORDER BY 2 DESC\n",
        "                           \"\"\")"
      ],
      "execution_count": 0,
      "outputs": []
    },
    {
      "cell_type": "code",
      "metadata": {
        "id": "13N1uAsWvC3H",
        "colab_type": "code",
        "colab": {
          "base_uri": "https://localhost:8080/",
          "height": 444
        },
        "outputId": "8a1153f3-bde2-4526-f99b-2c1c80eaa37b"
      },
      "source": [
        "SpecieTpyeCount20.show()"
      ],
      "execution_count": 81,
      "outputs": [
        {
          "output_type": "stream",
          "text": [
            "+-------------+-----+\n",
            "|       Specie| freq|\n",
            "+-------------+-----+\n",
            "|         pm25|53159|\n",
            "|  temperature|51976|\n",
            "|     humidity|51967|\n",
            "|     pressure|51809|\n",
            "|         pm10|51795|\n",
            "|          no2|51583|\n",
            "|           o3|47829|\n",
            "|   wind speed|44075|\n",
            "|          so2|43097|\n",
            "|           co|39727|\n",
            "|          dew|39640|\n",
            "|    wind gust|28267|\n",
            "|   wind-speed|10518|\n",
            "|    wind-gust| 5864|\n",
            "|precipitation| 4141|\n",
            "|           wd| 3918|\n",
            "|          aqi| 1512|\n",
            "|          uvi| 1053|\n",
            "|          pol|  715|\n",
            "|          pm1|  413|\n",
            "+-------------+-----+\n",
            "only showing top 20 rows\n",
            "\n"
          ],
          "name": "stdout"
        }
      ]
    },
    {
      "cell_type": "code",
      "metadata": {
        "id": "BWAudyhQwbqH",
        "colab_type": "code",
        "colab": {}
      },
      "source": [
        "MedianSpecieperCity = sqlContext.sql(\"\"\"\n",
        "                           SELECT City,Specie, sum(Median) as sum\n",
        "                           FROM data20\n",
        "                           GROUP BY City,Specie\n",
        "                           ORDER BY 2 DESC\n",
        "                           \"\"\")"
      ],
      "execution_count": 0,
      "outputs": []
    },
    {
      "cell_type": "code",
      "metadata": {
        "id": "_IQfd9-mzuGX",
        "colab_type": "code",
        "colab": {
          "base_uri": "https://localhost:8080/",
          "height": 444
        },
        "outputId": "f4c8f90e-fc78-4512-afc4-6d9f846a349e"
      },
      "source": [
        "MedianSpecieperCity.show()"
      ],
      "execution_count": 117,
      "outputs": [
        {
          "output_type": "stream",
          "text": [
            "+-------------------+----------+------------------+\n",
            "|               City|    Specie|               sum|\n",
            "+-------------------+----------+------------------+\n",
            "|       Buenos Aires|wind-speed|              64.2|\n",
            "|           Hannover|wind-speed|              28.4|\n",
            "|             Riyadh|wind-speed|              58.6|\n",
            "|               Yazd|wind-speed|              47.5|\n",
            "|          São Paulo|wind-speed|              45.9|\n",
            "|    Pachuca de Soto|wind-speed|             108.0|\n",
            "|          Bucharest|wind-speed|48.199999999999996|\n",
            "|              Rouen|wind-speed|              53.8|\n",
            "|Ecatepec de Morelos|wind-speed|               8.0|\n",
            "|            Wrocław|wind-speed|              44.1|\n",
            "|              Wuhan|wind-speed|              35.2|\n",
            "|             Berlin|wind-speed|              72.8|\n",
            "|          Stockholm|wind-speed| 77.29999999999998|\n",
            "|           Limassol|wind-speed| 82.99999999999997|\n",
            "|             Odessa|wind-speed|              66.5|\n",
            "|         Nur-Sultan|wind-speed| 88.19999999999997|\n",
            "|              Hanoi|wind-speed|44.699999999999996|\n",
            "|      Saint-Étienne|wind-speed|35.800000000000004|\n",
            "|               Īlām|wind-speed|              41.7|\n",
            "|               Kyiv|wind-speed|39.900000000000006|\n",
            "+-------------------+----------+------------------+\n",
            "only showing top 20 rows\n",
            "\n"
          ],
          "name": "stdout"
        }
      ]
    },
    {
      "cell_type": "code",
      "metadata": {
        "id": "mMBvQuYL0x6v",
        "colab_type": "code",
        "colab": {
          "base_uri": "https://localhost:8080/",
          "height": 444
        },
        "outputId": "7c822d6b-7683-464f-ad82-4b864e4f5477"
      },
      "source": [
        "# filter data to remove some weather measurements that we dont care about \n",
        "data20_filtered=data20.filter((data20.Specie==\"no2\")| (data20.Specie==\"pm10\")| (data20.Specie==\"co\")|(data20.Specie==\"pm25\")| (data20.Specie==\"o3\")| (data20.Specie==\"so2\"))\n",
        "data20_filtered.show()"
      ],
      "execution_count": 118,
      "outputs": [
        {
          "output_type": "stream",
          "text": [
            "+----------+-------+----------+------+-----+---+----+------+--------+\n",
            "|      Date|Country|      City|Specie|count|min| max|median|variance|\n",
            "+----------+-------+----------+------+-----+---+----+------+--------+\n",
            "|2020-02-18|     MN|Ulan Bator|   so2|  165|5.6|58.6|  18.8| 1491.11|\n",
            "|2020-02-17|     MN|Ulan Bator|   so2|  180|6.6|58.6|  19.9| 2135.84|\n",
            "|2020-03-18|     MN|Ulan Bator|   so2|  168|0.6|14.2|   4.1|   89.78|\n",
            "|2020-01-25|     MN|Ulan Bator|   so2|  165|4.6|65.9|  14.7| 2602.46|\n",
            "|2020-02-16|     MN|Ulan Bator|   so2|  186|7.1|58.8|  18.8| 2298.95|\n",
            "|2020-03-13|     MN|Ulan Bator|   so2|  216|0.6|40.8|  10.3|  706.04|\n",
            "|2020-03-17|     MN|Ulan Bator|   so2|  212|1.1|45.1|   8.2|  557.59|\n",
            "|2020-01-17|     MN|Ulan Bator|   so2|  165|6.6|62.4|  20.3| 2976.86|\n",
            "|2020-01-23|     MN|Ulan Bator|   so2|  158|6.3|52.3|  20.1| 1330.57|\n",
            "|2020-04-02|     MN|Ulan Bator|   so2|  227|0.6|43.9|  10.2|  641.51|\n",
            "|2020-01-13|     MN|Ulan Bator|   so2|  181|7.6|79.0|  16.9|  4623.9|\n",
            "|2020-02-19|     MN|Ulan Bator|   so2|  166|1.6|58.6|  13.6|  808.74|\n",
            "|2020-02-20|     MN|Ulan Bator|   so2|  162|1.6|30.7|   8.3|   253.8|\n",
            "|2020-03-28|     MN|Ulan Bator|   so2|   93|0.6|40.6|   7.6|  932.96|\n",
            "|2020-02-05|     MN|Ulan Bator|   so2|  171|2.6|54.2|  11.5| 1280.71|\n",
            "|2020-01-29|     MN|Ulan Bator|   so2|  182|2.1|55.6|   8.8|  1495.5|\n",
            "|2020-03-10|     MN|Ulan Bator|   so2|  195|1.1|49.4|  13.7|  913.81|\n",
            "|2020-04-11|     MN|Ulan Bator|   so2|  154|0.6|24.6|   3.3|  178.91|\n",
            "|2019-12-31|     MN|Ulan Bator|   so2|  170|1.1|78.0|  14.4| 4711.44|\n",
            "|2020-01-07|     MN|Ulan Bator|   so2|  200|0.6|76.8|  14.5| 4190.92|\n",
            "+----------+-------+----------+------+-----+---+----+------+--------+\n",
            "only showing top 20 rows\n",
            "\n"
          ],
          "name": "stdout"
        }
      ]
    }
  ]
} 
